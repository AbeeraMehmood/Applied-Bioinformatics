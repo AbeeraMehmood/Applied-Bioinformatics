{
 "cells": [
  {
   "cell_type": "markdown",
   "metadata": {},
   "source": [
    "# R intro 1 - Practice 2.4"
   ]
  },
  {
   "cell_type": "markdown",
   "metadata": {},
   "source": [
    "### 1. For a certain input vector, determine if it is a numeric vector. If it is, then calculate\u000b",
    "the sum of the vector."
   ]
  },
  {
   "cell_type": "code",
   "execution_count": 8,
   "metadata": {},
   "outputs": [
    {
     "data": {
      "text/html": [
       "FALSE"
      ],
      "text/latex": [
       "FALSE"
      ],
      "text/markdown": [
       "FALSE"
      ],
      "text/plain": [
       "[1] FALSE"
      ]
     },
     "metadata": {},
     "output_type": "display_data"
    },
    {
     "name": "stdout",
     "output_type": "stream",
     "text": [
      "[1] \"not numeric\"\n"
     ]
    }
   ],
   "source": [
    "# is.numeric()    Determine if the vector is numeric\n",
    "# sum()    Calculate the sum of the vector\n",
    "\n",
    "vec.1 <- c(1:10)\n",
    "vec.2 <- c(\"1\",\"2\")\n",
    "is.numeric(vec.2)\n",
    "if(is.numeric(vec.2)){\n",
    "    sum.vec <- sum(vec.2)\n",
    "    print(sum.vec)\n",
    "} else {\n",
    "    print(\"not numeric\")\n",
    "}\n"
   ]
  },
  {
   "cell_type": "markdown",
   "metadata": {},
   "source": [
    "### 2. Define a function that generate random integer ranging from 1:10, until you get 5 or you reached 1000 times. Return how many times you generated the random number till you got 5. If you didn’t get 5 in 1000 times, return FALSE."
   ]
  },
  {
   "cell_type": "code",
   "execution_count": 12,
   "metadata": {},
   "outputs": [
    {
     "data": {
      "text/html": [
       "3"
      ],
      "text/latex": [
       "3"
      ],
      "text/markdown": [
       "3"
      ],
      "text/plain": [
       "[1] 3"
      ]
     },
     "metadata": {},
     "output_type": "display_data"
    },
    {
     "data": {
      "text/html": [
       "39"
      ],
      "text/latex": [
       "39"
      ],
      "text/markdown": [
       "39"
      ],
      "text/plain": [
       "[1] 39"
      ]
     },
     "metadata": {},
     "output_type": "display_data"
    },
    {
     "data": {
      "text/html": [
       "6"
      ],
      "text/latex": [
       "6"
      ],
      "text/markdown": [
       "6"
      ],
      "text/plain": [
       "[1] 6"
      ]
     },
     "metadata": {},
     "output_type": "display_data"
    },
    {
     "data": {
      "text/html": [
       "13"
      ],
      "text/latex": [
       "13"
      ],
      "text/markdown": [
       "13"
      ],
      "text/plain": [
       "[1] 13"
      ]
     },
     "metadata": {},
     "output_type": "display_data"
    },
    {
     "data": {
      "text/html": [
       "4"
      ],
      "text/latex": [
       "4"
      ],
      "text/markdown": [
       "4"
      ],
      "text/plain": [
       "[1] 4"
      ]
     },
     "metadata": {},
     "output_type": "display_data"
    }
   ],
   "source": [
    "# sample(1:10, 1)   Generate random integer between 1 and 10\n",
    "\n",
    "get5 <- function(){\n",
    "    times <- 0\n",
    "    got5 <- FALSE\n",
    "    while(!((got5==TRUE | times>=1000))){\n",
    "        got5 <- (sample(1:10, 1)==5)\n",
    "        times <- times + 1\n",
    "    }\n",
    "    if(got5){\n",
    "        return(times)\n",
    "    }\n",
    "    else{\n",
    "        return(FALSE)\n",
    "    }\n",
    "}\n",
    "get5()\n",
    "get5()\n",
    "get5()\n",
    "get5()\n",
    "get5()"
   ]
  },
  {
   "cell_type": "markdown",
   "metadata": {},
   "source": [
    "### 3. Calculate 20 fibonacci numbers with the use of a while loop and print them."
   ]
  },
  {
   "cell_type": "code",
   "execution_count": 18,
   "metadata": {},
   "outputs": [
    {
     "name": "stdout",
     "output_type": "stream",
     "text": [
      " [1]           1           1           2           3           5           8\n",
      " [7]          13          21          34          55          89         144\n",
      "[13]         233         377         610         987        1597        2584\n",
      "[19]        4181        6765       10946       17711       28657       46368\n",
      "[25]       75025      121393      196418      317811      514229      832040\n",
      "[31]     1346269     2178309     3524578     5702887     9227465    14930352\n",
      "[37]    24157817    39088169    63245986   102334155   165580141   267914296\n",
      "[43]   433494437   701408733  1134903170  1836311903  2971215073  4807526976\n",
      "[49]  7778742049 12586269025\n"
     ]
    }
   ],
   "source": [
    "# Fibonacci numbers: 1, 1, 2, 3, 5 …\n",
    "\n",
    "vec.fib <- c(1,1)\n",
    "idx <- 2\n",
    "while(idx < 50) {\n",
    "    new.num <- sum(tail(vec.fib, n=2))\n",
    "    vec.fib <- c(vec.fib, new.num)\n",
    "    idx <- idx+1\n",
    "}\n",
    "print(vec.fib)"
   ]
  },
  {
   "cell_type": "code",
   "execution_count": null,
   "metadata": {
    "collapsed": true
   },
   "outputs": [],
   "source": []
  }
 ],
 "metadata": {
  "kernelspec": {
   "display_name": "R",
   "language": "R",
   "name": "ir"
  },
  "language_info": {
   "codemirror_mode": "r",
   "file_extension": ".r",
   "mimetype": "text/x-r-source",
   "name": "R",
   "pygments_lexer": "r",
   "version": "3.3.2"
  }
 },
 "nbformat": 4,
 "nbformat_minor": 2
}
