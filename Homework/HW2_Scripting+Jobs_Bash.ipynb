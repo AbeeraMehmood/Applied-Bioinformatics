{
 "cells": [
  {
   "cell_type": "markdown",
   "metadata": {},
   "source": [
    "# Homework 2: Scripting and Jobs (Bash, cnt'd)\n",
    "Curated by Sabah Ul-Hasan, Huitian Dao, Karthik Gangavarapu, and Andrew Su\n",
    "\n",
    "Homeworks are due every Tuesday at 8 AM PST.<br>\n",
    "Download your homework as a notebook for TAs to provide feedback: HW#_LastName.ipynb<br>\n",
    "Make sure to save your work constantly so the efforts don't get lost!\n",
    "\n",
    "In this assignment, you will <br>\n",
    "A2.aa Refresh your understanding of bash<br>\n",
    "A2.ab Explore pipes in-depth (+awk) <br>\n",
    "A2.ba Familiarize yourself with loops and Git <br>\n",
    "A2.bb Compile what you've learned as job to run on the cluster (HPC)<br>\n",
    "\n",
    "Note that there is a section at the very end (A2.bb) to point out any enhancements you personally would make to this assignment if you were to lead the course. Feel free to give it a try!"
   ]
  },
  {
   "cell_type": "markdown",
   "metadata": {},
   "source": [
    "### A2.aa: Refresh understanding of bash [20-30 min] Group of 4 \n",
    "1. [5 min] In your group, identify four items you each considered to be the most difficult part of Homework 1. Then, break into pairs based on who in the group found it easier to navigate vs harder to navigate. In other words, pair yourself with someone who better understood what you found difficult and vice versa. Denote what these sections are below as a,b,c,or d.\n",
    "2. [10 min] Spend time discussing your troubleshooting process of working through what the other person found as difficult with one another. Write down what you learned. What was the before vs after result?\n",
    "3. [15 min] Now, share as a whole group. Write down what you gained from the discussion in how you will be approaching bash scripting differently than you would do before."
   ]
  },
  {
   "cell_type": "code",
   "execution_count": 1,
   "metadata": {},
   "outputs": [],
   "source": [
    "# 1a\n",
    "# 1b\n",
    "# 1c\n",
    "# 1d"
   ]
  },
  {
   "cell_type": "markdown",
   "metadata": {},
   "source": [
    "### A2.aa: Explore pipes in-depth (+awk) [20-30 min] TPS \n",
    "[10-15 min]: On your own time, try the following exercises\n",
    "\n",
    "1. Describe your current understanding of pipes. What are the various approaches, where does ```awk``` come into play?\n",
    "2. Find the error and fix to run the script. Describe the error in a sentence. What is {print $3} doing? Describe what awk is doing this, and its limitations in recognizing delimiters (Hint: tab). \n",
    "```\n",
    "%%bash\n",
    "awk '{print $3}' data/new_folder/artists_new.txt\n",
    "```\n",
    "3. Use awk, sort, and/or uniq to find the most common last names among all artists in 'artists.txt'\n",
    "[10-15 min]: Now, discuss your findings with your partner. What was similar, and what was different?\n",
    "\n",
    "On your own: \n",
    "4. Now that we've worked through these in pairs, create a bash script that integrates two items we haven't yet tried in the exercises, such as NF, to answer a question about the artists.txt file. Describe briefly what this does. Have this complete pior to next class. <br>\n",
    "5. Reflections: On an integer scale of 1-5, 1 being very easy and 5 being the most difficult, where would you rank today's exercises? Provide brief notes on what was easy vs difficult, and why. <br>\n",
    "\n",
    "Install Git and review prior to next class: https://git-scm.com/book/en/v2/Getting-Started-Installing-Git"
   ]
  },
  {
   "cell_type": "markdown",
   "metadata": {},
   "source": [
    "### A2.ba: Loops and Git [20-30 min] Group of 3\n",
    "#### ba.i Loops <br>\n",
    "[10 min] On your own\n",
    "1. Describe how a loop operates. Why and when do you want to use a loop, vs a single command string?\n",
    "2. Write a bash for loop that outpouts letters a-e\n",
    "3. What are the different types of loops, and when might you want to try one over another? Script an example.\n",
    "\n",
    "#### ba.ii Git <br>\n",
    "[15-20 min] Discuss and execute the following with your group -- be careful of permanently changing something!\n",
    "4. Save one of the scripts you've created and push it to a new Github repository connected to your own account labeled as \"Applied-Bioinformatics_Course\". Do this as a group through one account, and then affirm your understanding by ensuring everyone has their own script uploaded in their repository. Use the terminal to do this, not the website (though you can confirm it pops up on the website)! Share the final URL below."
   ]
  },
  {
   "cell_type": "markdown",
   "metadata": {},
   "source": [
    "### A2.bb: Create a script to run a job on the cluster (HPC) [20-30 min] Individual\n",
    "Get excited, we're about to apply what we've learned from a technical perspective to the science-y stuff! Familiar with 'fasta files' from NCBI? Here we go!\n",
    "https://blast.ncbi.nlm.nih.gov/Blast.cgi?CMD=Web&PAGE_TYPE=BlastDocs&DOC_TYPE=BlastHelp\n",
    "\n",
    "#### bb.i Applying what we've learned on bash to biology <br>\n",
    "1. In your \"Applied-Bioinformatics_Course\" Github repository, create a folder titled \"HW2_[Lastname]\"<br>\n",
    "*Always check that you're in the correct working directory\n",
    "2. Create a bash loop that renames all the files in the folder data/fastq folder from .fq to .fastq<br>\n",
    "*Have all these files copied and moved into the 'new_folder' directory so as not to overwrite the original .fq\n",
    "3. Print all nucleotide sequences from ./data/fastq/simulated1.R1.fastq by replacing all 'T's in the nucleotide sequences with 'U's\n",
    "\n",
    "#### bb.ii Checking that we can access the HPC *make sure you're set up for VPN <br>\n",
    "4. On your terminal, are you able to login to the TSRI cluster? Y/N <br>\n",
    "```ssh [yourlogin]@login01.scripps.edu``` <br>\n",
    "[Type out any obstacles you encounter here] <br>\n",
    "5. What is meant by \"HPC\", and why do we need one vs our own personal computer or Github? \n",
    "\n",
    "HPC User Manual: http://docs.adaptivecomputing.com/torque/4-0-2/help.htm#topics/2-jobs/submittingManagingJobs.htm#topics/2-jobs/submittingManagingJobs.htm?TocPath=2.0%20Submitting%20and%20managing%20jobs%7C_____0\n",
    "\n",
    "#### bb.iii Running a job on the HPC to explore a biological question On Checking that we can access the HPC <br>\n",
    "6. Use scp to download the file 'models.txt' from <br> \n",
    "/gpfs/home/hdiao/Applied-Bioinformatics-Course/week1-2 <br>\n",
    "And append \"Drosophila melanogaster\" into the file\n",
    "7. Log in to the HPC, copy the folder<br>\n",
    "/gpfs/home/hdiao/Applied-Bioinformatics-Course/week1-2<br>\n",
    "to your HPC home directory\n",
    "8. Run fastqc for the file pairend_fastq/SRR396637.sra_1.fastq. Submit a job, check the job process, archive and zip the output files.\n",
    "9. Change permission for the file hs_TBX21.fasta so that only owner can read and write it.\n",
    "10. Reflections: On an integer scale of 1-5, 1 being very easy and 5 being the most difficult, where would you rank the A2.bb assignment and why? Include some notes about what you gained from this past week that you didn't know before as well as notes of things you already knew. \n",
    "11. Improvements: Notice a mistake, or an area of this homework that could have been improved? Include your thoughts here."
   ]
  }
 ],
 "metadata": {
  "kernelspec": {
   "display_name": "Python 3",
   "language": "python",
   "name": "python3"
  },
  "language_info": {
   "codemirror_mode": {
    "name": "ipython",
    "version": 3
   },
   "file_extension": ".py",
   "mimetype": "text/x-python",
   "name": "python",
   "nbconvert_exporter": "python",
   "pygments_lexer": "ipython3",
   "version": "3.8.3"
  }
 },
 "nbformat": 4,
 "nbformat_minor": 4
}
