{
 "cells": [
  {
   "cell_type": "markdown",
   "metadata": {},
   "source": [
    "Before you turn this problem in, make sure everything runs as expected. First, **restart the kernel** (in the menubar, select Kernel$\\rightarrow$Restart) and then **run all cells** (in the menubar, select Cell$\\rightarrow$Run All).\n",
    "\n",
    "Make sure you fill in any place that says `YOUR CODE HERE` or \"YOUR ANSWER HERE\", as well as your name and collaborators below:"
   ]
  },
  {
   "cell_type": "code",
   "execution_count": null,
   "metadata": {},
   "outputs": [],
   "source": [
    "NAME = \"\"\n",
    "COLLABORATORS = \"\""
   ]
  },
  {
   "cell_type": "markdown",
   "metadata": {},
   "source": [
    "---"
   ]
  },
  {
   "cell_type": "markdown",
   "metadata": {
    "deletable": false,
    "editable": false,
    "nbgrader": {
     "cell_type": "markdown",
     "checksum": "49c98ae4b46b73656a86629f5b2c7a9b",
     "grade": false,
     "grade_id": "context_1",
     "locked": true,
     "schema_version": 3,
     "solution": false,
     "task": false
    }
   },
   "source": [
    "# Homework 3: Introduction to R\n",
    "Curated by Sabah Ul-Hasan, Huitian Dao, Shang-Fu Chen, and Andrew Su\n",
    "\n",
    "Complete homework is due every Tuesday at 8 AM PST.\n",
    "Save your homework as you go, so the efforts don't get lost.\n",
    "Note there are up 12 points, but you can only receive 10 points total for homework.\n",
    "\n",
    "In this assignment, you will <br>\n",
    "A3.aa Solidfy your understanding of weeks 1-2 <br>\n",
    "A3.ab Execute basic commands in R using Jupyter notebook <br>\n",
    "A3.ba Execute operations onto objects in R using Jupyter notebook <br>\n",
    "A3.bb Solidfy your understanding of R by practice\n",
    "\n",
    "Note that there is a section at the end (A3.bb) to point out any enhancements you personally would make to this assignment if you were to lead the course. "
   ]
  },
  {
   "cell_type": "markdown",
   "metadata": {
    "deletable": false,
    "editable": false,
    "nbgrader": {
     "cell_type": "markdown",
     "checksum": "180d44616f8426f60c8eed9a9764f7d4",
     "grade": false,
     "grade_id": "context_2",
     "locked": true,
     "schema_version": 3,
     "solution": false,
     "task": false
    }
   },
   "source": [
    "### A3.aa: Solidfy knowledge gained by teaching and troubleshooting [20-30 min] Group of 3 \n",
    "1. Code review: Take turns briefly talking through your code and process (3-5 min), then spend the remaining time discussing the different approaches you may have taken to get to the same end-goal. What were the interesting aspects you learned from each other? Share your notes below. Additionally include specific notes on your navigation through the HPC and process of Git. \n",
    "2. For the last 5 minutes on your own, think of a suggestion of something you would've liked to learn in relation to these topics that we didn't cover."
   ]
  },
  {
   "cell_type": "markdown",
   "metadata": {
    "deletable": false,
    "editable": false,
    "nbgrader": {
     "cell_type": "markdown",
     "checksum": "f8b9d93c86d47fabdf4eacfb921698c0",
     "grade": false,
     "grade_id": "context_3",
     "locked": true,
     "schema_version": 3,
     "solution": false,
     "task": false
    }
   },
   "source": [
    "### A3.ab: Execute basic commands in R using Jupyter notebook [20-30 min] Individual\n",
    "#### ab.i Understanding R and syntax<br>"
   ]
  },
  {
   "cell_type": "markdown",
   "metadata": {
    "deletable": false,
    "editable": false,
    "nbgrader": {
     "cell_type": "markdown",
     "checksum": "2229800de75e8aa4a0a699cba533dfb4",
     "grade": false,
     "grade_id": "why_R",
     "locked": true,
     "schema_version": 3,
     "solution": false,
     "task": false
    }
   },
   "source": [
    "### Question 1 (1 point)\n",
    "\n",
    "a. Why are we using R compared to other languages we've learned (bash, and some python)? What is its utility in the context of biology and applied bioinformatics? Include observations about kernel usages.\n",
    "b. Why are we using R in Jupyter notebook vs running basic R on its own or in RStudio? Briefly describe the distinctions between each of these, and their utility."
   ]
  },
  {
   "cell_type": "markdown",
   "metadata": {
    "deletable": false,
    "nbgrader": {
     "cell_type": "markdown",
     "checksum": "11fa56b22ed43b8775b9ac0ec09e7495",
     "grade": true,
     "grade_id": "why_jupyteR_answer",
     "locked": false,
     "points": 0,
     "schema_version": 3,
     "solution": true,
     "task": false
    }
   },
   "source": [
    "YOUR ANSWER HERE"
   ]
  },
  {
   "cell_type": "markdown",
   "metadata": {
    "deletable": false,
    "editable": false,
    "nbgrader": {
     "cell_type": "markdown",
     "checksum": "7a99a9446770671c0bf2e099c75d0ed3",
     "grade": false,
     "grade_id": "R_objects",
     "locked": true,
     "schema_version": 3,
     "solution": false,
     "task": false
    }
   },
   "source": [
    "### Question 2 (1 point)\n",
    "\n",
    "Describe the different objects commonly used for R syntax. What is an example of when you might use each?"
   ]
  },
  {
   "cell_type": "markdown",
   "metadata": {
    "deletable": false,
    "nbgrader": {
     "cell_type": "markdown",
     "checksum": "cc564526ecc33a4575a544b4784638c2",
     "grade": true,
     "grade_id": "R_objects_answer",
     "locked": false,
     "points": 1,
     "schema_version": 3,
     "solution": true,
     "task": false
    }
   },
   "source": [
    "YOUR ANSWER HERE"
   ]
  },
  {
   "cell_type": "markdown",
   "metadata": {
    "deletable": false,
    "editable": false,
    "nbgrader": {
     "cell_type": "markdown",
     "checksum": "2d29dd4e36147ca5b171165fddeab938",
     "grade": false,
     "grade_id": "context_4",
     "locked": true,
     "schema_version": 3,
     "solution": false,
     "task": false
    }
   },
   "source": [
    "#### ab.ii Practicing R syntax<br>"
   ]
  },
  {
   "cell_type": "markdown",
   "metadata": {
    "deletable": false,
    "editable": false,
    "nbgrader": {
     "cell_type": "markdown",
     "checksum": "0d461387f7d78f67375a55a4e8e521ab",
     "grade": false,
     "grade_id": "R_hello_world",
     "locked": true,
     "schema_version": 3,
     "solution": false,
     "task": false
    }
   },
   "source": [
    "### Question 3 (1 point)\n",
    "\n",
    "Assign the phrase \"Hello, world!\" to a string. Give the string with variable name `phrase`. Print the `phrase`, and identify the type of string.  "
   ]
  },
  {
   "cell_type": "code",
   "execution_count": null,
   "metadata": {
    "deletable": false,
    "nbgrader": {
     "cell_type": "code",
     "checksum": "8422e98e44f86c1de297d83ffe4ae96a",
     "grade": false,
     "grade_id": "R_hello_world_answer",
     "locked": false,
     "schema_version": 3,
     "solution": true,
     "task": false
    }
   },
   "outputs": [],
   "source": [
    "# your code here\n",
    "raise NotImplementedError"
   ]
  },
  {
   "cell_type": "code",
   "execution_count": null,
   "metadata": {
    "deletable": false,
    "editable": false,
    "nbgrader": {
     "cell_type": "code",
     "checksum": "201e1cbf91577298d7f844edc4e6ba2a",
     "grade": true,
     "grade_id": "R_hello_world_test",
     "locked": true,
     "points": 1,
     "schema_version": 3,
     "solution": false,
     "task": false
    }
   },
   "outputs": [],
   "source": [
    "test_that(\"value for phrase should be a string (type character in R)\", {\n",
    "    expect_that(phrase, is_a(\"character\"))\n",
    "})\n",
    "test_that(\"value for phrase should be 13 characters long\", {\n",
    "    expect_that(nchar(phrase) == 13, is_true())\n",
    "})"
   ]
  },
  {
   "cell_type": "markdown",
   "metadata": {
    "deletable": false,
    "editable": false,
    "nbgrader": {
     "cell_type": "markdown",
     "checksum": "29d4b8a437ca8f6c15c516ead3640caf",
     "grade": false,
     "grade_id": "R_wd",
     "locked": true,
     "points": 1,
     "schema_version": 3,
     "solution": false,
     "task": true
    }
   },
   "source": [
    "### Question 4 (1 point)\n",
    "\n",
    "Use R commands/functions to identify your current working directly, analogous to how we did this with bash. After you identify the current working directly, set it to our `data` folder. Include comments to describe what is happening at each step for an outside user. "
   ]
  },
  {
   "cell_type": "code",
   "execution_count": null,
   "metadata": {
    "deletable": false,
    "nbgrader": {
     "cell_type": "code",
     "checksum": "cb384c51944f415f7dee3cea20df51cb",
     "grade": false,
     "grade_id": "R_wd_answer",
     "locked": false,
     "schema_version": 3,
     "solution": true,
     "task": false
    }
   },
   "outputs": [],
   "source": [
    "# your code here\n",
    "raise NotImplementedError"
   ]
  },
  {
   "cell_type": "markdown",
   "metadata": {
    "deletable": false,
    "editable": false,
    "nbgrader": {
     "cell_type": "markdown",
     "checksum": "05d9f658e4a3555d5dcd1a3ca91d7337",
     "grade": false,
     "grade_id": "context_5",
     "locked": true,
     "schema_version": 3,
     "solution": false,
     "task": false
    }
   },
   "source": [
    "#### ab.iii Developing good habits (on your own time)<br>"
   ]
  },
  {
   "cell_type": "markdown",
   "metadata": {
    "deletable": false,
    "editable": false,
    "nbgrader": {
     "cell_type": "markdown",
     "checksum": "e34c93e651d4f399bac71d9312c6e001",
     "grade": false,
     "grade_id": "extra_learn",
     "locked": true,
     "schema_version": 3,
     "solution": false,
     "task": false
    }
   },
   "source": [
    "### Question 5 (1 point)\n",
    "\n",
    "Follow and complete the two tutorials. Use this space to take notes of what you learned <br>\n",
    "https://swcarpentry.github.io/r-novice-inflammation/01-starting-with-data/index.html <br>\n",
    "https://swcarpentry.github.io/r-novice-inflammation/06-best-practices-R/\n",
    "\n",
    "Reflections: On an integer scale of `1-5`, `1` being very easy and `5` being the most difficult, where would you rank today's exercises? Provide brief notes on what was easy vs difficult, and why. <br>"
   ]
  },
  {
   "cell_type": "markdown",
   "metadata": {
    "deletable": false,
    "nbgrader": {
     "cell_type": "markdown",
     "checksum": "8281ae315e7b3e02547c6a154e5f8382",
     "grade": true,
     "grade_id": "extra_learn_answer",
     "locked": false,
     "points": 1,
     "schema_version": 3,
     "solution": true,
     "task": false
    }
   },
   "source": [
    "YOUR ANSWER HERE"
   ]
  },
  {
   "cell_type": "markdown",
   "metadata": {
    "deletable": false,
    "editable": false,
    "nbgrader": {
     "cell_type": "markdown",
     "checksum": "d924dea4545d99407b3cd79ca2cc737d",
     "grade": false,
     "grade_id": "context_6",
     "locked": true,
     "schema_version": 3,
     "solution": false,
     "task": false
    }
   },
   "source": [
    "### A3.ba: Execute operations onto objects in R using Jupyter notebook [20-30 min] TPS\n",
    "[20 min on your own]"
   ]
  },
  {
   "cell_type": "markdown",
   "metadata": {
    "deletable": false,
    "editable": false,
    "nbgrader": {
     "cell_type": "markdown",
     "checksum": "c4b951989a89074c9dc6860938786348",
     "grade": false,
     "grade_id": "loop_weekday",
     "locked": true,
     "points": 1,
     "schema_version": 3,
     "solution": false,
     "task": true
    }
   },
   "source": [
    "### Question 6 (1 point)\n",
    "\n",
    "Make a vector containing days of the week, from Monday to Sunday. Use a for loop to print \"Hello world, it's Xday!\" for each day of the week. Comment on how this for loop may differ or compare to the loops created using bash.\n"
   ]
  },
  {
   "cell_type": "code",
   "execution_count": null,
   "metadata": {
    "deletable": false,
    "nbgrader": {
     "cell_type": "code",
     "checksum": "bdc4700a7c34eaf9bc677bd8e1c168a3",
     "grade": false,
     "grade_id": "loop_weekday_code",
     "locked": false,
     "schema_version": 3,
     "solution": true,
     "task": false
    }
   },
   "outputs": [],
   "source": [
    "# your code here\n",
    "raise NotImplementedError"
   ]
  },
  {
   "cell_type": "markdown",
   "metadata": {
    "deletable": false,
    "editable": false,
    "nbgrader": {
     "cell_type": "markdown",
     "checksum": "8a6eec485b880f4b88f573ec3ad0fc4a",
     "grade": false,
     "grade_id": "create_matrix",
     "locked": true,
     "points": 1,
     "schema_version": 3,
     "solution": false,
     "task": true
    }
   },
   "source": [
    "### Question 7 (1 point)\n",
    "\n",
    "Create a `my.matrix` with 50 numbers, with 5 column and 10 rows, and print it.\n"
   ]
  },
  {
   "cell_type": "code",
   "execution_count": null,
   "metadata": {
    "deletable": false,
    "nbgrader": {
     "cell_type": "code",
     "checksum": "264615c758b5ad2ef20eb3ac53f46288",
     "grade": false,
     "grade_id": "create_matrix_code",
     "locked": false,
     "schema_version": 3,
     "solution": true,
     "task": false
    }
   },
   "outputs": [],
   "source": [
    "# your code here\n",
    "raise NotImplementedError"
   ]
  },
  {
   "cell_type": "code",
   "execution_count": null,
   "metadata": {
    "deletable": false,
    "editable": false,
    "nbgrader": {
     "cell_type": "code",
     "checksum": "3fac5521604ad063c6ec5d9c6b93ac80",
     "grade": true,
     "grade_id": "create_matrix_test",
     "locked": true,
     "points": 1,
     "schema_version": 3,
     "solution": false,
     "task": false
    }
   },
   "outputs": [],
   "source": [
    "paste0(\"row number of your answer is \", dim(my.matrix)[1])\n",
    "paste0(\"column number of your answer is \", dim(my.matrix)[2])"
   ]
  },
  {
   "cell_type": "markdown",
   "metadata": {
    "deletable": false,
    "editable": false,
    "nbgrader": {
     "cell_type": "markdown",
     "checksum": "a2e15a551123650bf21db7d90ce9445d",
     "grade": false,
     "grade_id": "pi",
     "locked": true,
     "schema_version": 3,
     "solution": false,
     "task": false
    }
   },
   "source": [
    "### Question 8 (1 point)\n",
    "\n",
    "- Count the number of even digits in the first 100 digits of $\\pi$ and save as `count`\n",
    "- Convert the first 100 digits of $\\pi$ into a $10 * 10$ integer matrix named `pi.100.mtx` (by column-major order)  \n",
    "\n",
    "_(Note: Retrieve digits from this [website](https://www.piday.org/million/))_  \n",
    "\n",
    "In your answer, include how far the $\\pi$ constant goes in base R why we needed to retrieve the rest from the website? What additional constants are the in base R? _(Hint: Consider using `substr`, `strsplit`, `as.integer` and/or `unlist` -- what do each of these do?)_ [10 min together] \n",
    "\n",
    "Discuss and compare your scripts, troubelshoot together. What did you learn that you didn't already know from what you had tried?"
   ]
  },
  {
   "cell_type": "code",
   "execution_count": null,
   "metadata": {
    "deletable": false,
    "nbgrader": {
     "cell_type": "code",
     "checksum": "d993f8ddeb0730a0ac4d46b10496eed8",
     "grade": false,
     "grade_id": "pi_code",
     "locked": false,
     "schema_version": 3,
     "solution": true,
     "task": false
    }
   },
   "outputs": [],
   "source": [
    "# your code here\n",
    "raise NotImplementedError\n",
    "\n",
    "print(count) \n",
    "print(pi.100.mtx)"
   ]
  },
  {
   "cell_type": "code",
   "execution_count": null,
   "metadata": {
    "deletable": false,
    "editable": false,
    "nbgrader": {
     "cell_type": "code",
     "checksum": "4e8d957837ac418b4b1d6bb8e1defe37",
     "grade": true,
     "grade_id": "pi_test_1",
     "locked": true,
     "points": 1,
     "schema_version": 3,
     "solution": false,
     "task": false
    }
   },
   "outputs": [],
   "source": [
    "test_that(\"the count number should be an integer between 45 and 55\", {\n",
    "    expect_that(count >= 45 & count <= 55, is_true())\n",
    "})"
   ]
  },
  {
   "cell_type": "code",
   "execution_count": null,
   "metadata": {
    "deletable": false,
    "editable": false,
    "nbgrader": {
     "cell_type": "code",
     "checksum": "f5cffbdb7a3ae528359deffe0efba9c7",
     "grade": true,
     "grade_id": "pi_test_2",
     "locked": true,
     "points": 1,
     "schema_version": 3,
     "solution": false,
     "task": false
    }
   },
   "outputs": [],
   "source": [
    "test_that(\"the count number should be a matrix\", {\n",
    "    expect_that(pi.100.mtx, is_a(\"matrix\"))\n",
    "})\n",
    "test_that(\"the matrix should be 10 by 10\", {\n",
    "    expect_that(identical(dim(pi.100.mtx), as.integer(c(10, 10))), is_true())\n",
    "})\n",
    "test_that(\"check the first column\", {\n",
    "    expect_that(identical(as.vector(pi.100.mtx[1:10]), as.integer(c(3, 1, 4, 1, 5, 9, 2, 6, 5, 3))), is_true())\n",
    "})"
   ]
  },
  {
   "cell_type": "markdown",
   "metadata": {
    "deletable": false,
    "editable": false,
    "nbgrader": {
     "cell_type": "markdown",
     "checksum": "c56716f3794ee5a8241fb07f47c36e10",
     "grade": false,
     "grade_id": "context_7",
     "locked": true,
     "schema_version": 3,
     "solution": false,
     "task": false
    }
   },
   "source": [
    "### A3.bb Solidfy your understanding of R by practice [20-30 min] Individual\n"
   ]
  },
  {
   "cell_type": "markdown",
   "metadata": {
    "deletable": false,
    "editable": false,
    "nbgrader": {
     "cell_type": "markdown",
     "checksum": "605bb2c1cbe5543da30703bcc58e0e5b",
     "grade": false,
     "grade_id": "animal_info",
     "locked": true,
     "points": 0,
     "schema_version": 3,
     "solution": false,
     "task": true
    }
   },
   "source": [
    "### Question 9 (1 point)\n",
    "\n",
    "Re-create a dataframe `exp.animals` to record information for an animal experiment as below. Comment your code at each step to describe what's happening.  \n",
    "\n",
    "<img src=\"data/animal_info.png\" style=\"width: 300px;\">\n"
   ]
  },
  {
   "cell_type": "code",
   "execution_count": null,
   "metadata": {
    "deletable": false,
    "nbgrader": {
     "cell_type": "code",
     "checksum": "869d6423ddf8e162f902a5fae5232986",
     "grade": false,
     "grade_id": "animal_info_code",
     "locked": false,
     "schema_version": 3,
     "solution": true,
     "task": false
    }
   },
   "outputs": [],
   "source": [
    "# your code here\n",
    "raise NotImplementedError\n",
    "\n",
    "exp.animals # prints df"
   ]
  },
  {
   "cell_type": "code",
   "execution_count": null,
   "metadata": {
    "deletable": false,
    "editable": false,
    "nbgrader": {
     "cell_type": "code",
     "checksum": "266f84dd6bbad4e9a62df791ae7d4d0a",
     "grade": true,
     "grade_id": "animal_info_test",
     "locked": true,
     "points": 1,
     "schema_version": 3,
     "solution": false,
     "task": false
    }
   },
   "outputs": [],
   "source": [
    "test_that(\"total number of female should be 4\", {\n",
    "    expect_that(summary(exp.animals$Sex)['Female'] == 4, is_true())\n",
    "})\n",
    "\n",
    "test_that(\"my.matrix should be 8 by 5\", {\n",
    "    expect_that(identical(dim(exp.animals), as.integer(c(8, 5))), is_true())\n",
    "})"
   ]
  },
  {
   "cell_type": "markdown",
   "metadata": {
    "deletable": false,
    "editable": false,
    "nbgrader": {
     "cell_type": "markdown",
     "checksum": "bd48716aa0f91fc80080e0422a1c9e3f",
     "grade": false,
     "grade_id": "describe_structure",
     "locked": true,
     "points": 1,
     "schema_version": 3,
     "solution": false,
     "task": true
    }
   },
   "source": [
    "### Question 10 (1 point)\n",
    "\n",
    "Describe the structure of the dataframe by script."
   ]
  },
  {
   "cell_type": "code",
   "execution_count": null,
   "metadata": {
    "deletable": false,
    "nbgrader": {
     "cell_type": "code",
     "checksum": "3b80f0f0e242fe90629181f75bb2e7bb",
     "grade": false,
     "grade_id": "describe_structure_code",
     "locked": false,
     "schema_version": 3,
     "solution": true,
     "task": false
    }
   },
   "outputs": [],
   "source": [
    "# your code here\n",
    "raise NotImplementedError"
   ]
  },
  {
   "cell_type": "markdown",
   "metadata": {
    "deletable": false,
    "editable": false,
    "nbgrader": {
     "cell_type": "markdown",
     "checksum": "fdb721241407b662f2a939cdcbabb3cd",
     "grade": false,
     "grade_id": "nutella",
     "locked": true,
     "points": 1,
     "schema_version": 3,
     "solution": false,
     "task": true
    }
   },
   "source": [
    "### Question 11 (1 point)\n",
    "\n",
    "Nutella needs to be fed with 5 grams of rodent diet everyday. Create a for loop that will take a vector containing the weight of food that is given, and print out if the food is enough / more than enough / too little. Create a vector with TRUE or FALSE for the output, if the food is enough or more then TRUE, else FALSE. Comment out the code such that it's clear what's happening at each step.\n"
   ]
  },
  {
   "cell_type": "code",
   "execution_count": null,
   "metadata": {
    "deletable": false,
    "nbgrader": {
     "cell_type": "code",
     "checksum": "b1c618f9a3a405967f5241589e886eb9",
     "grade": false,
     "grade_id": "nutella_code",
     "locked": false,
     "schema_version": 3,
     "solution": true,
     "task": false
    }
   },
   "outputs": [],
   "source": [
    "# your code here\n",
    "raise NotImplementedError"
   ]
  },
  {
   "cell_type": "markdown",
   "metadata": {
    "deletable": false,
    "editable": false,
    "nbgrader": {
     "cell_type": "markdown",
     "checksum": "5ca2faa0c88b12c457acb9a06ab4d264",
     "grade": false,
     "grade_id": "reflection_",
     "locked": true,
     "points": 1,
     "schema_version": 3,
     "solution": false,
     "task": true
    }
   },
   "source": [
    "### Question 12 (1 point)\n",
    "On an integer scale of `1-5`, `1` being very easy and `5` being the most difficult, where would you rank the A3.bb assignment and why? Include some notes about what you gained from this past week that you didn't know before as well as notes of things you already knew. _(Insert cell below for your answer.)_\n",
    "\n",
    "Improvements: Notice a [potentially intentional] mistake, or an area of this homework that could have been improved? Include your thoughts here. "
   ]
  }
 ],
 "metadata": {
  "kernelspec": {
   "display_name": "R",
   "language": "R",
   "name": "ir"
  },
  "language_info": {
   "codemirror_mode": "r",
   "file_extension": ".r",
   "mimetype": "text/x-r-source",
   "name": "R",
   "pygments_lexer": "r",
   "version": "3.5.1"
  }
 },
 "nbformat": 4,
 "nbformat_minor": 4
}
