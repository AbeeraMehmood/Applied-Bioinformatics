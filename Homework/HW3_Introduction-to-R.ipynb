{
 "cells": [
  {
   "cell_type": "markdown",
   "metadata": {},
   "source": [
    "# Homework 3: Introduction to R\n",
    "Curated by Sabah Ul-Hasan, Huitian Dao, and Andrew Su\n",
    "\n",
    "Homeworks are due every Tuesday at 8 AM PST.<br>\n",
    "Download your homework as a notebook for TAs to provide feedback: HW#_LastName.ipynb<br>\n",
    "Make sure to save your work constantly so the efforts don't get lost!\n",
    "\n",
    "In this assignment, you will <br>\n",
    "A3.aa Soliday your understanding of weeks 1-2 <br>\n",
    "A3.ab Execute basic commands in R using Jupyter notebook <br>\n",
    "A3.ba Execute operations onto objects in R using Jupyter notebook <br>\n",
    "A3.bb Solidfy your understanding of R by practice\n",
    "\n",
    "Note that there is a section at the very end (A3.bb) to point out any enhancements you personally would make to this assignment if you were to lead the course. Feel free to give it a try!"
   ]
  },
  {
   "cell_type": "markdown",
   "metadata": {},
   "source": [
    "### A3.aa: Solidfy knowledge gained by teaching and troubleshooting [20-30 min] Group of 3 \n",
    "1. Code review: Take turns briefly talking through your code and process (3-5 min), then spend the remaining time discussing the different approaches you may have taken to get to the same end-goal. What were the interesting aspects you learned from each other? Share your notes below. Additionally include specific notes on your navigation through the HPC and process of Git. \n",
    "2. For the last 5 minutes on your own, think of a suggestion of something you would've liked to learn in relation to these topics that we didn't cover."
   ]
  },
  {
   "cell_type": "markdown",
   "metadata": {},
   "source": [
    "### A3.ab: Execute basic commands in R using Jupyter notebook [20-30 min] Individual\n",
    "#### ab.i Understanding R and syntax<br>\n",
    "1. Why are we using R compared to other languages we've learned (bash, and *some* python)? What is its utility in the context of biology and applied bioinformatics? Include observations about kernel usages.\n",
    "2. Why are we using R in Jupyter notebook vs running basic R on its own or in RStudio? Briefly describe the distinctions between each of these, and their utility.\n",
    "3. Describe the different objects commonly used for R syntax. What is an example of when you might use each?\n",
    "\n",
    "#### ab.ii Practicing R syntax<br>\n",
    "4. Assign the phrase \"Hello, world\" to a string. Title the string, 'phrase'. Print the phrase, and include how you would identify what type of string it is. *note unlike with the python script and ```%%bash``` you can denote the question number at the start of the cell\n",
    "5. Use R commands/functions to identify your current working directly, analogous to how we did this with bash. After you identify the current working directly, set it to our data folder. Include comments to describe what is happening at each step for an outside user. \n",
    "\n",
    "#### ab.iii Developing good habits (on your own time)<br>\n",
    "6. Follow and complete the two tutorials. Use this space to take notes of what you learned <br>\n",
    "https://swcarpentry.github.io/r-novice-inflammation/01-starting-with-data/index.html <br>\n",
    "https://swcarpentry.github.io/r-novice-inflammation/06-best-practices-R/\n",
    "7. Reflections: On an integer scale of 1-5, 1 being very easy and 5 being the most difficult, where would you rank today's exercises? Provide brief notes on what was easy vs difficult, and why. <br>"
   ]
  },
  {
   "cell_type": "markdown",
   "metadata": {},
   "source": [
    "### A3.ba: Execute operations onto objects in R using Jupyter notebook [20-30 min] TPS\n",
    "[20 min on your own]\n",
    "1. Make a vector containing days of the week, from Monday to Sunday. Use a for loop to print \"Hello world, it's Xday!\" for each day of the week. Comment on how this for loop may differ or compare to the loops created using bash.\n",
    "2. Create a matrix with 50 numbers, with 5 column and 10 rows, and print it.\n",
    "3. Count the number of even digits in the first 100 digits of pi. Convert the first 100 digits of pi into a 10 x 10 matrix<br>\n",
    "*Note: Retrieve digits from [website](https://www.piday.org/million/)<br>\n",
    "In your answer, include how far the pi constant goes in base R why we needed to retrieve the rest from the website? What additional constants are the in base R? <br>\n",
    "Hint: Consider using `substr`, `strsplit`, and/or `unlist` -- what do each of these do?\n",
    "[10 min together] \n",
    "4. Discuss and compare your scripts, troubelshoot together. What did you learn that you didn't already know from what you had tried?"
   ]
  },
  {
   "cell_type": "markdown",
   "metadata": {},
   "source": [
    "### A3.bb Solidfy your understanding of R by practice [20-30 min] Individual\n",
    "1. Create a dataframe to record information for an animal experiment. Name the dataframe's columns. Make the sex of animals a nominal variable. comment your code at each step to describe what's happening\n",
    "#### Animal info: <br>\n",
    "Names: Fluf1, Fluf2, Fluf3, Fluf4, Fluf5, Fluf6, Fluf7, Fluf8 <br>\n",
    "Number: 7103, 7104, 7105, 7106, 7107, 7108, 7109, 7110 <br>\n",
    "Weight: 19, 18, 23, 22, 17, 18, 21, 20 <br>\n",
    "Treated: TRUE, TRUE, FALSE, FALSE, TRUE, FALSE, TRUE, FALSE <br>\n",
    "Sex: Female, Female, Male, Male, Female, Female, Male, Male <br><br>\n",
    "2. Describe the structure of the dataframe. Hint: Create an R script to do this\n",
    "3. Nutella needs to be fed with 5 grams of rodent diet everyday. Create a for loop that will take a vector containing the weight of food that is given, and print out if the food is enough / more than enough / too little. Create a vector with TRUE or FALSE for the output, if the food is enough or more then TRUE, else FALSE. Comment out the code such that it's clear what's happening at each step.\n",
    "4. Reflections: On an integer scale of 1-5, 1 being very easy and 5 being the most difficult, where would you rank the A2.bb assignment and why? Include some notes about what you gained from this past week that you didn't know before as well as notes of things you already knew.\n",
    "5. Improvements: Notice a mistake, or an area of this homework that could have been improved? Include your thoughts here."
   ]
  }
 ],
 "metadata": {
  "kernelspec": {
   "display_name": "R",
   "language": "R",
   "name": "ir"
  },
  "language_info": {
   "codemirror_mode": "r",
   "file_extension": ".r",
   "mimetype": "text/x-r-source",
   "name": "R",
   "pygments_lexer": "r",
   "version": "4.0.2"
  }
 },
 "nbformat": 4,
 "nbformat_minor": 4
}
