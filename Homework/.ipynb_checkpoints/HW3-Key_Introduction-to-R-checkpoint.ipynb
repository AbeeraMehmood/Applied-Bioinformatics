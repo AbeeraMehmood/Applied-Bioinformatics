{
 "cells": [
  {
   "cell_type": "markdown",
   "metadata": {},
   "source": [
    "# Homework 3: Introduction to R\n",
    "Curated by Sabah Ul-Hasan, Huitian Dao, and Andrew Su\n",
    "\n",
    "Homeworks are due every Tuesday at 8 AM PST.<br>\n",
    "Download your homework as a pdf for TAs to provide feedback: HW#_LastName.PDF<br>\n",
    "Make sure to save your work constantly so the efforts don't get lost!\n",
    "\n",
    "In this assignment, you will <br>\n",
    "A3.aa Soliday your understanding of weeks 1-2 <br>\n",
    "A3.ab Execute basic commands in R using Jupyter notebook <br>\n",
    "A3.ba Execute operations onto objects in R using Jupyter notebook <br>\n",
    "A3.bb Solidfy your understanding of R by practice"
   ]
  },
  {
   "cell_type": "markdown",
   "metadata": {},
   "source": [
    "### A3.aa: Solidfy knowledge gained by teaching and troubleshooting [20-30 min] Group of 3 \n",
    "1. Code review: Take turns briefly talking through your code and process (3-5 min), then spend the remaining time discussing the different approaches you may have taken to get to the same end-goal. What were the interesting aspects you learned from each other? Share your notes below. Additionally include specific notes on your navigation through the HPC and process of Git. \n",
    "2. For the last 5 minutes on your own, think of a suggestion of something you would've liked to learn in relation to these topics that we didn't cover."
   ]
  },
  {
   "cell_type": "markdown",
   "metadata": {},
   "source": [
    "### A3.ab: Execute basic commands in R using Jupyter notebook [20-30 min] Individual\n",
    "#### ab.i Understanding R and syntax<br>\n",
    "1. Why are we using R compared to other languages we've learned (bash, and *some* python)? What is its utility in the context of biology and applied bioinformatics?\n",
    "2. Why are we using R in Jupyter notebook vs running basic R on its own or in RStudio? Briefly describe the distinctions between each of these, and their utility.\n",
    "3. Describe the different objects commonly used for R syntax. What is an example of when you might use each?\n",
    "\n",
    "#### ab.ii Practicing R syntax<br>\n",
    "4. Assign the phrase \"Hello, world\" to a string. Title the string, 'phrase'. Print the phrase, and include how you would identify what type of string it is. *note unlike with the python script and ```%%bash``` you can denote the question number at the start of the cell\n",
    "5. Use R commands/functions to identify your current working directly, analogous to how we did this with bash. After you identify the current working directly, set it to our data folder. Include comments to describe what is happening at each step for an outside user. \n",
    "\n",
    "#### ab.iii Developing good habits (on your own time)<br>\n",
    "6. Follow and complete the two tutorials. Use this space to take notes of what you learned <br>\n",
    "https://swcarpentry.github.io/r-novice-inflammation/01-starting-with-data/index.html <br>\n",
    "https://swcarpentry.github.io/r-novice-inflammation/06-best-practices-R/\n",
    "7. Reflections: On an integer scale of 1-5, 1 being very easy and 5 being the most difficult, where would you rank today's exercises? Provide brief notes on what was easy vs difficult, and why. <br>"
   ]
  },
  {
   "cell_type": "code",
   "execution_count": 7,
   "metadata": {},
   "outputs": [
    {
     "name": "stdout",
     "output_type": "stream",
     "text": [
      "[1] \"Hello, world!\"\n"
     ]
    },
    {
     "data": {
      "text/html": [
       "'character'"
      ],
      "text/latex": [
       "'character'"
      ],
      "text/markdown": [
       "'character'"
      ],
      "text/plain": [
       "[1] \"character\""
      ]
     },
     "metadata": {},
     "output_type": "display_data"
    }
   ],
   "source": [
    "# 4\n",
    "phrase <- \"Hello, world!\"\n",
    "print(phrase)\n",
    "class(phrase)"
   ]
  },
  {
   "cell_type": "code",
   "execution_count": 14,
   "metadata": {},
   "outputs": [
    {
     "data": {
      "text/html": [
       "'/Users/sulhasan/Downloads/Applied-Bioinformatics/Homework/data'"
      ],
      "text/latex": [
       "'/Users/sulhasan/Downloads/Applied-Bioinformatics/Homework/data'"
      ],
      "text/markdown": [
       "'/Users/sulhasan/Downloads/Applied-Bioinformatics/Homework/data'"
      ],
      "text/plain": [
       "[1] \"/Users/sulhasan/Downloads/Applied-Bioinformatics/Homework/data\""
      ]
     },
     "metadata": {},
     "output_type": "display_data"
    },
    {
     "data": {
      "text/html": [
       "'/Users/sulhasan/Downloads/Applied-Bioinformatics/Homework/data'"
      ],
      "text/latex": [
       "'/Users/sulhasan/Downloads/Applied-Bioinformatics/Homework/data'"
      ],
      "text/markdown": [
       "'/Users/sulhasan/Downloads/Applied-Bioinformatics/Homework/data'"
      ],
      "text/plain": [
       "[1] \"/Users/sulhasan/Downloads/Applied-Bioinformatics/Homework/data\""
      ]
     },
     "metadata": {},
     "output_type": "display_data"
    }
   ],
   "source": [
    "# 5\n",
    "getwd() # outputs current directory\n",
    "setwd('-/data') # sets directory to data folder\n",
    "getwd() # shows update of current directory"
   ]
  },
  {
   "cell_type": "markdown",
   "metadata": {},
   "source": [
    "### A3.ba: Execute operations onto objects in R using Jupyter notebook [20-30 min] TPS\n",
    "[15 min on your own]\n",
    "1. Make a vector containing days of the week, from Monday to Sunday. Use a for loop to print \"Hello world, it's Xday!\" for each day of the week. Comment on how this for loop may differ or compare to the loops created using bash.\n",
    "2. Create a matrix with 50 numbers, with 5 column and 10 rows, and print it.\n",
    "3. Count the number of even digits in the first 100 digits of pi. Convert these digits into a matrix. Briefly describe your approach to finding the constant for pi, what other constants are available in R?\n",
    "[15 min together]\n",
    "4. Discuss and compare your scripts, troubelshoot together. What did you learn that you didn't already know from what you had tried?"
   ]
  },
  {
   "cell_type": "code",
   "execution_count": 17,
   "metadata": {},
   "outputs": [
    {
     "name": "stdout",
     "output_type": "stream",
     "text": [
      "[1] \"Satur\" \"Sun\"   \"Mon\"   \"Tues\"  \"Weds\"  \"Thur\"  \"Fri\"  \n",
      "Hello world, its Satur day!\n",
      "Hello world, its Sun day!\n",
      "Hello world, its Mon day!\n",
      "Hello world, its Tues day!\n",
      "Hello world, its Weds day!\n",
      "Hello world, its Thur day!\n",
      "Hello world, its Fri day!\n"
     ]
    }
   ],
   "source": [
    "# 1\n",
    "days <- c(\"Satur\", \"Sun\", \"Mon\", \"Tues\", \"Weds\", \"Thur\", \"Fri\")\n",
    "print(days)\n",
    "\n",
    "for(var in days)\n",
    " {\n",
    "  cat(\"Hello world, its\", var,\"day!\\n\")\n",
    " }"
   ]
  },
  {
   "cell_type": "code",
   "execution_count": 27,
   "metadata": {},
   "outputs": [
    {
     "name": "stdout",
     "output_type": "stream",
     "text": [
      "      [,1] [,2] [,3] [,4] [,5]\n",
      " [1,]    1   11   21   31   41\n",
      " [2,]    2   12   22   32   42\n",
      " [3,]    3   13   23   33   43\n",
      " [4,]    4   14   24   34   44\n",
      " [5,]    5   15   25   35   45\n",
      " [6,]    6   16   26   36   46\n",
      " [7,]    7   17   27   37   47\n",
      " [8,]    8   18   28   38   48\n",
      " [9,]    9   19   29   39   49\n",
      "[10,]   10   20   30   40   50\n"
     ]
    }
   ],
   "source": [
    "# 2\n",
    "my.matrix <- matrix(1:50, nrow=10, ncol=5)\n",
    "print(my.matrix)"
   ]
  },
  {
   "cell_type": "code",
   "execution_count": 23,
   "metadata": {},
   "outputs": [
    {
     "name": "stdout",
     "output_type": "stream",
     "text": [
      "[1] 3.141593\n"
     ]
    },
    {
     "data": {
      "text/html": [
       "0"
      ],
      "text/latex": [
       "0"
      ],
      "text/markdown": [
       "0"
      ],
      "text/plain": [
       "[1] 0"
      ]
     },
     "metadata": {},
     "output_type": "display_data"
    },
    {
     "name": "stdout",
     "output_type": "stream",
     "text": [
      "          [,1]     [,2]     [,3]     [,4]     [,5]     [,6]     [,7]     [,8]\n",
      " [1,] 100.1416 100.1416 100.1416 100.1416 100.1416 100.1416 100.1416 100.1416\n",
      " [2,] 100.1416 100.1416 100.1416 100.1416 100.1416 100.1416 100.1416 100.1416\n",
      " [3,] 100.1416 100.1416 100.1416 100.1416 100.1416 100.1416 100.1416 100.1416\n",
      " [4,] 100.1416 100.1416 100.1416 100.1416 100.1416 100.1416 100.1416 100.1416\n",
      " [5,] 100.1416 100.1416 100.1416 100.1416 100.1416 100.1416 100.1416 100.1416\n",
      " [6,] 100.1416 100.1416 100.1416 100.1416 100.1416 100.1416 100.1416 100.1416\n",
      " [7,] 100.1416 100.1416 100.1416 100.1416 100.1416 100.1416 100.1416 100.1416\n",
      " [8,] 100.1416 100.1416 100.1416 100.1416 100.1416 100.1416 100.1416 100.1416\n",
      " [9,] 100.1416 100.1416 100.1416 100.1416 100.1416 100.1416 100.1416 100.1416\n",
      "[10,] 100.1416 100.1416 100.1416 100.1416 100.1416 100.1416 100.1416 100.1416\n",
      "          [,9]    [,10]\n",
      " [1,] 100.1416 100.1416\n",
      " [2,] 100.1416 100.1416\n",
      " [3,] 100.1416 100.1416\n",
      " [4,] 100.1416 100.1416\n",
      " [5,] 100.1416 100.1416\n",
      " [6,] 100.1416 100.1416\n",
      " [7,] 100.1416 100.1416\n",
      " [8,] 100.1416 100.1416\n",
      " [9,] 100.1416 100.1416\n",
      "[10,] 100.1416 100.1416\n"
     ]
    }
   ],
   "source": [
    "# 3\n",
    "print(pi)\n",
    "\n",
    "# tbd\n",
    "# Assign even numbers to a list\n",
    "# count list\n",
    "i <- 1\n",
    "count <- 0\n",
    "while(i <= 100) {\n",
    "    if(i%%3 == 0) {\n",
    "        print(i)\n",
    "        count <- count + 1\n",
    "    }\n",
    "    i <- i+1\n",
    "}\n",
    "count\n",
    "\n",
    "my.matrix <- matrix(pi, nrow=10, ncol=10)\n",
    "print(my.matrix)\n"
   ]
  },
  {
   "cell_type": "markdown",
   "metadata": {},
   "source": [
    "### A3.bb Solidfy your understanding of R by practice [20-30 min] Individual\n",
    "1. Create a dataframe to record information for an animal experiment animals. Name the dataframe's columns. Make gender of animals a nominal variable. comment your code at each step to describe what's happening\n",
    "#### Animal info: <br>\n",
    "Names: Fluf1, Fluf2, Fluf3, Fluf4, Fluf5, Fluf6, Fluf7, Fluf8 <br>\n",
    "Number: 7103, 7104, 7105, 7106, 7107, 7108, 7109, 7110 <br>\n",
    "Weight: 19, 18, 23, 22, 17, 18, 21, 20 <br>\n",
    "Treated: TRUE, TRUE, FALSE, FALSE, TRUE, FALSE, TRUE, FALSE <br>\n",
    "Sex: Female, Female, Male, Male, Female, Female, Male, Male <br>\n",
    "2. Describe the structure of the dataframe. Hint: Create an R script to do this"
   ]
  },
  {
   "cell_type": "code",
   "execution_count": 30,
   "metadata": {},
   "outputs": [
    {
     "data": {
      "text/html": [
       "<style>\n",
       ".dl-inline {width: auto; margin:0; padding: 0}\n",
       ".dl-inline>dt, .dl-inline>dd {float: none; width: auto; display: inline-block}\n",
       ".dl-inline>dt::after {content: \":\\0020\"; padding-right: .5ex}\n",
       ".dl-inline>dt:not(:first-of-type) {padding-left: .5ex}\n",
       "</style><dl class=dl-inline><dt>Female</dt><dd>4</dd><dt>Male</dt><dd>4</dd></dl>\n"
      ],
      "text/latex": [
       "\\begin{description*}\n",
       "\\item[Female] 4\n",
       "\\item[Male] 4\n",
       "\\end{description*}\n"
      ],
      "text/markdown": [
       "Female\n",
       ":   4Male\n",
       ":   4\n",
       "\n"
      ],
      "text/plain": [
       "Female   Male \n",
       "     4      4 "
      ]
     },
     "metadata": {},
     "output_type": "display_data"
    },
    {
     "data": {
      "text/html": [
       "<table>\n",
       "<caption>A data.frame: 8 × 5</caption>\n",
       "<thead>\n",
       "\t<tr><th scope=col>Name</th><th scope=col>Number</th><th scope=col>Weight</th><th scope=col>Treatment</th><th scope=col>Sex</th></tr>\n",
       "\t<tr><th scope=col>&lt;chr&gt;</th><th scope=col>&lt;int&gt;</th><th scope=col>&lt;dbl&gt;</th><th scope=col>&lt;lgl&gt;</th><th scope=col>&lt;fct&gt;</th></tr>\n",
       "</thead>\n",
       "<tbody>\n",
       "\t<tr><td>Fluf1</td><td>7103</td><td>19</td><td> TRUE</td><td>Female</td></tr>\n",
       "\t<tr><td>Fluf2</td><td>7104</td><td>18</td><td> TRUE</td><td>Female</td></tr>\n",
       "\t<tr><td>Fluf3</td><td>7105</td><td>23</td><td>FALSE</td><td>Male  </td></tr>\n",
       "\t<tr><td>Fluf4</td><td>7106</td><td>22</td><td>FALSE</td><td>Male  </td></tr>\n",
       "\t<tr><td>Fluf5</td><td>7107</td><td>17</td><td> TRUE</td><td>Female</td></tr>\n",
       "\t<tr><td>Fluf6</td><td>7108</td><td>18</td><td>FALSE</td><td>Female</td></tr>\n",
       "\t<tr><td>Fluf7</td><td>7109</td><td>21</td><td> TRUE</td><td>Male  </td></tr>\n",
       "\t<tr><td>Fluf8</td><td>7110</td><td>20</td><td>FALSE</td><td>Male  </td></tr>\n",
       "</tbody>\n",
       "</table>\n"
      ],
      "text/latex": [
       "A data.frame: 8 × 5\n",
       "\\begin{tabular}{lllll}\n",
       " Name & Number & Weight & Treatment & Sex\\\\\n",
       " <chr> & <int> & <dbl> & <lgl> & <fct>\\\\\n",
       "\\hline\n",
       "\t Fluf1 & 7103 & 19 &  TRUE & Female\\\\\n",
       "\t Fluf2 & 7104 & 18 &  TRUE & Female\\\\\n",
       "\t Fluf3 & 7105 & 23 & FALSE & Male  \\\\\n",
       "\t Fluf4 & 7106 & 22 & FALSE & Male  \\\\\n",
       "\t Fluf5 & 7107 & 17 &  TRUE & Female\\\\\n",
       "\t Fluf6 & 7108 & 18 & FALSE & Female\\\\\n",
       "\t Fluf7 & 7109 & 21 &  TRUE & Male  \\\\\n",
       "\t Fluf8 & 7110 & 20 & FALSE & Male  \\\\\n",
       "\\end{tabular}\n"
      ],
      "text/markdown": [
       "\n",
       "A data.frame: 8 × 5\n",
       "\n",
       "| Name &lt;chr&gt; | Number &lt;int&gt; | Weight &lt;dbl&gt; | Treatment &lt;lgl&gt; | Sex &lt;fct&gt; |\n",
       "|---|---|---|---|---|\n",
       "| Fluf1 | 7103 | 19 |  TRUE | Female |\n",
       "| Fluf2 | 7104 | 18 |  TRUE | Female |\n",
       "| Fluf3 | 7105 | 23 | FALSE | Male   |\n",
       "| Fluf4 | 7106 | 22 | FALSE | Male   |\n",
       "| Fluf5 | 7107 | 17 |  TRUE | Female |\n",
       "| Fluf6 | 7108 | 18 | FALSE | Female |\n",
       "| Fluf7 | 7109 | 21 |  TRUE | Male   |\n",
       "| Fluf8 | 7110 | 20 | FALSE | Male   |\n",
       "\n"
      ],
      "text/plain": [
       "  Name  Number Weight Treatment Sex   \n",
       "1 Fluf1 7103   19      TRUE     Female\n",
       "2 Fluf2 7104   18      TRUE     Female\n",
       "3 Fluf3 7105   23     FALSE     Male  \n",
       "4 Fluf4 7106   22     FALSE     Male  \n",
       "5 Fluf5 7107   17      TRUE     Female\n",
       "6 Fluf6 7108   18     FALSE     Female\n",
       "7 Fluf7 7109   21      TRUE     Male  \n",
       "8 Fluf8 7110   20     FALSE     Male  "
      ]
     },
     "metadata": {},
     "output_type": "display_data"
    }
   ],
   "source": [
    "# 1\n",
    "\n",
    "names <- paste(rep(\"Fluf\", each=8), 1:8, sep=\"\") # 8 names are created with a number at the end\n",
    "numbers <- c(7103:7110) # integers are assigned\n",
    "weights <- c(19, 18, 23, 22, 17, 18, 21, 20) # weights are assigned in order\n",
    "treatments <- c(TRUE, TRUE, FALSE, FALSE, TRUE, FALSE, TRUE, FALSE) # treatments assigned in order\n",
    "sex <- c(\"Female\", \"Female\", \"Male\", \"Male\",\"Female\", \"Female\", \"Male\", \"Male\")\n",
    "sex <- factor(sex) # sex assign in order, and need to be a factor\n",
    "summary(sex) # shows set ouput\n",
    "exp.animals <- data.frame(Name=names, Number=numbers, Weight=weights, Treatment=treatments, Sex=sex) # creates df\n",
    "exp.animals # prints df"
   ]
  },
  {
   "cell_type": "code",
   "execution_count": 28,
   "metadata": {},
   "outputs": [
    {
     "name": "stdout",
     "output_type": "stream",
     "text": [
      "'data.frame':\t8 obs. of  5 variables:\n",
      " $ Name     : chr  \"Fluf1\" \"Fluf2\" \"Fluf3\" \"Fluf4\" ...\n",
      " $ Number   : int  7103 7104 7105 7106 7107 7108 7109 7110\n",
      " $ Weight   : num  19 18 23 22 17 18 21 20\n",
      " $ Treatment: logi  TRUE TRUE FALSE FALSE TRUE FALSE ...\n",
      " $ Gender   : Factor w/ 2 levels \"Female\",\"Male\": 1 1 2 2 1 1 2 2\n"
     ]
    },
    {
     "data": {
      "text/html": [
       "'character'"
      ],
      "text/latex": [
       "'character'"
      ],
      "text/markdown": [
       "'character'"
      ],
      "text/plain": [
       "[1] \"character\""
      ]
     },
     "metadata": {},
     "output_type": "display_data"
    },
    {
     "data": {
      "text/html": [
       "'integer'"
      ],
      "text/latex": [
       "'integer'"
      ],
      "text/markdown": [
       "'integer'"
      ],
      "text/plain": [
       "[1] \"integer\""
      ]
     },
     "metadata": {},
     "output_type": "display_data"
    },
    {
     "data": {
      "text/html": [
       "'numeric'"
      ],
      "text/latex": [
       "'numeric'"
      ],
      "text/markdown": [
       "'numeric'"
      ],
      "text/plain": [
       "[1] \"numeric\""
      ]
     },
     "metadata": {},
     "output_type": "display_data"
    },
    {
     "data": {
      "text/html": [
       "'logical'"
      ],
      "text/latex": [
       "'logical'"
      ],
      "text/markdown": [
       "'logical'"
      ],
      "text/plain": [
       "[1] \"logical\""
      ]
     },
     "metadata": {},
     "output_type": "display_data"
    },
    {
     "data": {
      "text/html": [
       "'factor'"
      ],
      "text/latex": [
       "'factor'"
      ],
      "text/markdown": [
       "'factor'"
      ],
      "text/plain": [
       "[1] \"factor\""
      ]
     },
     "metadata": {},
     "output_type": "display_data"
    }
   ],
   "source": [
    "# 2\n",
    "str(exp.animals)\n",
    "class(exp.animals$Name)\n",
    "class(exp.animals$Number)\n",
    "class(exp.animals$Weight)\n",
    "class(exp.animals$Treatment)\n",
    "class(exp.animals$Gender)"
   ]
  },
  {
   "cell_type": "code",
   "execution_count": null,
   "metadata": {},
   "outputs": [],
   "source": [
    "\n",
    "Create a for loop that will take a vector containing the weight of food that is given, and print out if the food is enough / more than enough / too little."
   ]
  },
  {
   "cell_type": "code",
   "execution_count": null,
   "metadata": {},
   "outputs": [],
   "source": [
    "Nutella needs to be fed with 5 grams of rodent diet everyday.\n",
    "*Please create a for loop that will take a vector containing the weight of food that is given, and print out if the food is enough / more than enough / too little.\n",
    "*Create a vector with TRUE or FALSE for the output, if the food is enough or more then TRUE, else FALSE."
   ]
  },
  {
   "cell_type": "code",
   "execution_count": null,
   "metadata": {},
   "outputs": [],
   "source": [
    "\n",
    "\n",
    "food.weight <- c(7,3,5,6,10,5,6)\n",
    "food.enough <- logical(length=length(food.weight))\n",
    "food.enough\n",
    "\n",
    "for (i in c(1:length(food.weight))){\n",
    "    if(food.weight[i] > 5){\n",
    "        print(\"This is too much\")\n",
    "        food.enough[i] <- TRUE\n",
    "        \n",
    "    }\n",
    "    else if(food.weight[i] == 5){\n",
    "        print(\"Perfect\")\n",
    "        food.enough[i] <- TRUE\n",
    "    }\n",
    "    else {\n",
    "        print(\"This is too little\")\n",
    "        food.enough[i] <- FALSE\n",
    "    }\n",
    "}\n",
    "\n",
    "food.enough\n",
    "\n"
   ]
  }
 ],
 "metadata": {
  "kernelspec": {
   "display_name": "R",
   "language": "R",
   "name": "ir"
  },
  "language_info": {
   "codemirror_mode": "r",
   "file_extension": ".r",
   "mimetype": "text/x-r-source",
   "name": "R",
   "pygments_lexer": "r",
   "version": "4.0.2"
  }
 },
 "nbformat": 4,
 "nbformat_minor": 4
}
