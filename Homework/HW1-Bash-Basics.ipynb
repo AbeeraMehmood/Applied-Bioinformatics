{
 "cells": [
  {
   "cell_type": "markdown",
   "metadata": {},
   "source": [
    "# Homework 1: Jupyter and Bash Basics\n",
    "Curated by Sabah Ul-Hasan, Karthik Gangavarapu, Huitian Dao, and Andrew Su\n",
    "\n",
    "Homeworks are due every Tuesday at 8 AM PST.<br>\n",
    "Download your homework as a notebook for TAs to provide feedback: HW#_LastName.ipynb<br>\n",
    "Make sure to save your work constantly so the efforts don't get lost!\n",
    "\n",
    "In this assignment, you will <br>\n",
    "A1.aa Practice basic bash operations in terminal and functionality of Jupyter notebook (R kernel)<br>\n",
    "A1.ab Execute basic operations of bash commands in Jupyter notebook <br>\n",
    "A1.ba Utilize bash for more sophisicated tasks, such as pipes <br>\n",
    "A1.bb Solidfy your understanding of bash by practice"
   ]
  },
  {
   "cell_type": "markdown",
   "metadata": {},
   "source": [
    "### A1.aa: Github and Jupyter notebook [20-30 min] Individual\n",
    "\n",
    "#### aa.i Confirmation of Github account and download of data in Bioinformatics course repo<br>\n",
    "Go to https://github.com/SuLab/Applied-Bioinformatics/tree/Fall-2020 and download as a zip file.<br>\n",
    "Instead of looking via your Finder, use the command line to identify where this zip file has been downloaded and unzip. <br>\n",
    "Then, use command line to find where the 'data' folder is located within 'Homework.'<br>\n",
    "1. Did you find this folder? Y/N <br>\n",
    "[Type out any obstacles you encounter here] <br>\n",
    "##### Answer: Students should use a combination of ls, pwd, and cd to reach their Downloads folder.<br>Once there, ```unzip [filename]```<br> \n",
    "\n",
    "#### aa.ii Confirmation of basic Jupyter notebook operations <br>\n",
    "Use ```jupyter notebook``` to open HW 1 in your browser <br>\n",
    "2. Do you see the same screen as shared by the instructors? Y/N <br>\n",
    "Create a new cell below this one by clicking on this cell and the selecting \"Insert\"->\"Insert Cell Below\".<br>\n",
    "3. Are you able to run the cell with an output after typing ```2+3```? Y/N<br>\n",
    "4. Notice the different settings (ie Markdown). What do they mean?<br>\n",
    "5. Why did we need to install the R kernel, whereas Python 3 was automatically included?<br>\n",
    "6. What additional observations do you have of Jupyter notebook, and how it functions? Play around with it and take notes of your observations. <br>\n",
    "[Type out any obstacles you encounter here] <br>\n",
    "##### Answer: <br> "
   ]
  },
  {
   "cell_type": "markdown",
   "metadata": {},
   "source": [
    "### A1.ab: Execute basic bash commands in R (using Jupyter) [20-30 min] TPS\n",
    "#### ab.i Confirmation of basic bash operations <br>\n",
    "Usually, you would want to use command line in your terminal to run an R script for a given job/task. Here we are going to leverage the `%%bash` 'magic command' in the jupyter python kernel to execute bash commands in the notebok directly. More information on magic commands can be found in the [documentation of the python kernel](https://ipython.readthedocs.io/en/stable/interactive/magics.html). If you want to call bash commands using the R kernel, you will utilize the [`system`](https://www.rdocumentation.org/packages/base/versions/3.6.2/topics/system) function in R.\n",
    "\n",
    "For example to execute the `pwd` command in the python kernel, you will use, \n",
    "\n",
    "```\n",
    "%%bash\n",
    "pwd\n",
    "```\n",
    "\n",
    "To execute the same `pwd` command in the R kernel, you will use, \n",
    "\n",
    "```\n",
    "system('pwd', intern=TRUE)\n",
    "```\n",
    "\n",
    "In this notebook, we will **only be using the python kernel**. We are doing this because the syntax for bash is easier and more concise under python than R. We will switch to the R kernel, which you have already installed in the configuration instructions, starting Week 3.\n",
    "\n",
    "#### ab.ii Continuation of basic bash operations <br>\n",
    "Use the basic command lines covered in lecture to walk through the following exercises\n",
    "\n",
    "2. Find and output the 'artists.txt' file\n",
    "3. Find and output the artist Francesco Albani - what year was he born?\n",
    "4. Count the number of artists in the file that are *not* French.\n",
    "5. Script your own task that includes 1-2 basic commands we haven't yet tried.\n",
    "##### Answers: below\n",
    "\n",
    "#### ab.iii Developing these skills on your own time \n",
    "\n",
    "Now that we've worked through these in pairs, try the following exercises on your own. Have them complete pior to next class. <br>\n",
    "6. How would you view the first 10 lines of 'artists.txt'?\n",
    "7. Make a copy of 'artists.txt' and rename it as 'artists_new.txt'. Move the new copy to a new folder titled 'new_folder' in the 'data' folder, but outside of the 'art' folder.\n",
    "8. Now, create your own script that gives us some information about about the artists.txt file that we didn't know about before or haven't yet tried. Ask a question about the data, then answer it with your script! Utilize the ```sort``` command as part of your script.\n",
    "9. Reflections: On an integer scale of 1-5, 1 being very easy and 5 being the most difficult, where would you rank today's exercises? Be honest! It's okay if you put a 5, and will help us better understand how to make sure your needs are being met. "
   ]
  },
  {
   "cell_type": "markdown",
   "metadata": {},
   "source": [
    "### A1.ba: Wildcards, redirections, and pipes [20-30 min] Group of 3\n",
    "#### ba.i Glob <br>\n",
    "1. What is glob, and why use it compared to basic command line functions?\n",
    "2. Utliize glob to create a command that lists all the .txt files in the 'tmp' directory, located in 'data'. What could be another way to 'glob'? Include this answer as a few sentences.\n",
    "##### Answer: <br> \n",
    "\n",
    "#### ba.i Redirection and pipes <br>\n",
    "In your, work on these individually and then compare your scripts.\n",
    "3. What does it mean to redirect, and why would you utilize a pipe over a basic command line?\n",
    "4. Building off of glob, use a pipe to count the number of .txt files in data/tmp\n",
    "5. Now, redirect the counted number as a saved 'file_number.txt' file to the 'new_folder' directory. What happens to the file if you repeat the same task, but exclude the pipe (name this 'file_list.txt' so you can compare)?\n",
    "6. How do your scripts compare or differ, either in input (command) or output?"
   ]
  },
  {
   "cell_type": "markdown",
   "metadata": {},
   "source": [
    "### A1.bb: Affirming what you learned in Week 1 [20-30 min, assignment] Individual\n",
    "1. What is the distinction between an absolute vs relative file path? Script an example of these two comparison along with a brief written answer.\n",
    "2. What are 3 ways you can extend the ```ls``` command to give you more information, and what do they give?\n",
    "3. Create a file named 'test.txt', move it into the 'new_folder', then delete the file.\n",
    "4. Create a sorted file artists (alphabetical order) from 'artists.txt' labeled as 'artists_sorted.txt' and place it in the 'new_folder'. Then identify the number of unique artists in that file. \n",
    "5. Use nano in your terminal (not jupyter notebook) to create a bash script titled 'print_names.sh' that echos any name entered in a list of 4 names (3 of the names are fixed, the 4th is not). Move the script to 'new_folder', then run it. Take a screenshot of the input to run the script and output. Briefly explain why you have to do this on terminal, and can't run this on your Jupyter notebook?\n",
    "6. Use nano to create your own script that uses 2 commands we've used and 1 command we haven't yet used (3 total, but you can include more if you'd like) that answers another question you have about the contents of the 'artists.txt' file. Label this script as 'artist_text.sh' and place it in 'new_folder'. Describe what it does, and how. \n",
    "7. Reflections: On an integer scale of 1-5, 1 being very easy and 5 being the most difficult, where would you rank the A1.bb assignment and why? Include some notes about what you gained from this past week that you didn't know before as well as notes of things you already knew. "
   ]
  }
 ],
 "metadata": {
  "kernelspec": {
   "display_name": "Python 3",
   "language": "python",
   "name": "python3"
  },
  "language_info": {
   "codemirror_mode": {
    "name": "ipython",
    "version": 3
   },
   "file_extension": ".py",
   "mimetype": "text/x-python",
   "name": "python",
   "nbconvert_exporter": "python",
   "pygments_lexer": "ipython3",
   "version": "3.8.3"
  }
 },
 "nbformat": 4,
 "nbformat_minor": 2
}
